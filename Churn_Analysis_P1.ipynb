{
 "cells": [
  {
   "cell_type": "code",
   "execution_count": 1,
   "id": "2b81cbe4",
   "metadata": {},
   "outputs": [],
   "source": [
    "import os\n",
    "import pandas as pd\n",
    "import sqlite3"
   ]
  },
  {
   "cell_type": "code",
   "execution_count": 9,
   "id": "0102a425",
   "metadata": {},
   "outputs": [
    {
     "name": "stdout",
     "output_type": "stream",
     "text": [
      "data/customer.csv\n",
      "data/cust_account.csv\n",
      "data/cust_churn.csv\n",
      "data/cust_loc.csv\n",
      "data/cust_services.csv\n",
      "data/sample.csv\n"
     ]
    }
   ],
   "source": [
    "files={}\n",
    "path='data/'\n",
    "for dir_name,_,filenames in os.walk(path):\n",
    "    for filename in filenames:\n",
    "        if filename.endswith('.csv'):\n",
    "            files[filename[:-4]]=os.path.join(dir_name, filename)\n",
    "            print(os.path.join(dir_name, filename))"
   ]
  },
  {
   "cell_type": "code",
   "execution_count": 13,
   "id": "f0808f20",
   "metadata": {},
   "outputs": [],
   "source": []
  },
  {
   "cell_type": "code",
   "execution_count": 14,
   "id": "608a8640",
   "metadata": {},
   "outputs": [
    {
     "name": "stdout",
     "output_type": "stream",
     "text": [
      "customer\n",
      "\tCustomerID\n",
      "\tGender\n",
      "\tSeniorCitizen\n",
      "\tPartner\n",
      "\tDependents\n",
      "\n",
      "cust_account\n",
      "\tAccount_id\n",
      "\tTenure\n",
      "\tContract\n",
      "\tPaymentMethod\n",
      "\tPaperlessBilling\n",
      "\tMonthlyCharges\n",
      "\tTotalCharges\n",
      "\n",
      "cust_churn\n",
      "\tId\n",
      "\tChurn\n",
      "\n",
      "cust_loc\n",
      "\tCust_ID\n",
      "\tState\n",
      "\tLatitude\n",
      "\tLongitude\n",
      "\tZipCode\n",
      "\n",
      "cust_services\n",
      "\tCust_ID\n",
      "\tPhoneService\n",
      "\tMultipleLines\n",
      "\tInternetService\n",
      "\tOnlineSecurity\n",
      "\tOnlineBackup\n",
      "\tDeviceProtection\n",
      "\tTechSupport\n",
      "\tStreamingTV\n",
      "\tStreamingMovies\n",
      "\n",
      "sample\n",
      "\tName\n",
      "\tAge\n",
      "\n"
     ]
    }
   ],
   "source": [
    "\n",
    "conn=sqlite3.connect('data/churn.db')\n",
    "cur=conn.cursor()\n",
    "\n",
    "for filename in files:\n",
    "    file=pd.read_csv(files[filename])\n",
    "    file.to_sql(filename,conn,if_exists='replace',index=False)\n",
    "    \n",
    "conn.commit()\n",
    "table_info(conn,cur)\n",
    "conn.close()\n"
   ]
  },
  {
   "cell_type": "code",
   "execution_count": null,
   "id": "f2c3b7e3",
   "metadata": {},
   "outputs": [],
   "source": []
  },
  {
   "cell_type": "code",
   "execution_count": null,
   "id": "2c3aea38",
   "metadata": {},
   "outputs": [],
   "source": []
  },
  {
   "cell_type": "code",
   "execution_count": null,
   "id": "8548d659",
   "metadata": {},
   "outputs": [],
   "source": []
  }
 ],
 "metadata": {
  "hide_input": false,
  "kernelspec": {
   "display_name": "Python 3 (ipykernel)",
   "language": "python",
   "name": "python3"
  },
  "language_info": {
   "codemirror_mode": {
    "name": "ipython",
    "version": 3
   },
   "file_extension": ".py",
   "mimetype": "text/x-python",
   "name": "python",
   "nbconvert_exporter": "python",
   "pygments_lexer": "ipython3",
   "version": "3.8.8"
  }
 },
 "nbformat": 4,
 "nbformat_minor": 5
}
