{
 "cells": [
  {
   "cell_type": "code",
   "execution_count": 1,
   "id": "8715400e",
   "metadata": {},
   "outputs": [],
   "source": [
    "import os\n",
    "import pandas as pd\n",
    "import sqlite3\n",
    "from helper_functions import *"
   ]
  },
  {
   "cell_type": "code",
   "execution_count": 2,
   "id": "eb2acb61",
   "metadata": {},
   "outputs": [
    {
     "name": "stdout",
     "output_type": "stream",
     "text": [
      "data/customer.csv\n",
      "data/cust_account.csv\n",
      "data/cust_churn.csv\n",
      "data/cust_loc.csv\n",
      "data/cust_services.csv\n",
      "data/sample.csv\n"
     ]
    }
   ],
   "source": [
    "files={}\n",
    "path='data/'\n",
    "for dir_name,_,filenames in os.walk(path):\n",
    "    for filename in filenames:\n",
    "        if filename.endswith('.csv'):\n",
    "            files[filename[:-4]]=os.path.join(dir_name, filename)\n",
    "            print(os.path.join(dir_name, filename))"
   ]
  },
  {
   "cell_type": "code",
   "execution_count": 21,
   "id": "fee5a916",
   "metadata": {},
   "outputs": [
    {
     "name": "stdout",
     "output_type": "stream",
     "text": [
      "customer\n",
      "\tCustomerID\n",
      "\tGender\n",
      "\tSeniorCitizen\n",
      "\tPartner\n",
      "\tDependents\n",
      "\n",
      "cust_account\n",
      "\tAccount_id\n",
      "\tTenure\n",
      "\tContract\n",
      "\tPaymentMethod\n",
      "\tPaperlessBilling\n",
      "\tMonthlyCharges\n",
      "\tTotalCharges\n",
      "\n",
      "cust_churn\n",
      "\tId\n",
      "\tChurn\n",
      "\n",
      "cust_loc\n",
      "\tCust_ID\n",
      "\tState\n",
      "\tLatitude\n",
      "\tLongitude\n",
      "\tZipCode\n",
      "\n",
      "cust_services\n",
      "\tCust_ID\n",
      "\tPhoneService\n",
      "\tMultipleLines\n",
      "\tInternetService\n",
      "\tOnlineSecurity\n",
      "\tOnlineBackup\n",
      "\tDeviceProtection\n",
      "\tTechSupport\n",
      "\tStreamingTV\n",
      "\tStreamingMovies\n",
      "\n",
      "sample\n",
      "\tName\n",
      "\tAge\n",
      "\n"
     ]
    }
   ],
   "source": [
    "\n",
    "conn=sqlite3.connect('data/churn.db')\n",
    "cur=conn.cursor()\n",
    "\n",
    "for filename in files:\n",
    "    file=pd.read_csv(files[filename])\n",
    "    file.to_sql(filename,conn,if_exists='replace',index=False)\n",
    "    \n",
    "conn.commit()\n",
    "table_info(conn,cur)\n",
    "conn.close()\n",
    "del(file)"
   ]
  },
  {
   "cell_type": "markdown",
   "id": "22cf07f4",
   "metadata": {},
   "source": [
    "## Creating ER diagrams"
   ]
  },
  {
   "cell_type": "markdown",
   "id": "fddcfde5",
   "metadata": {},
   "source": [
    "https://dbdiagram.io/home"
   ]
  },
  {
   "cell_type": "markdown",
   "id": "d84cadaf",
   "metadata": {},
   "source": [
    "## Data Exploration"
   ]
  },
  {
   "cell_type": "code",
   "execution_count": 22,
   "id": "57f5a373",
   "metadata": {},
   "outputs": [],
   "source": [
    "conn=sqlite3.connect('data/churn.db')\n",
    "cur=conn.cursor()"
   ]
  },
  {
   "cell_type": "code",
   "execution_count": 6,
   "id": "2e89734b",
   "metadata": {},
   "outputs": [
    {
     "data": {
      "text/plain": [
       "[('customer',),\n",
       " ('cust_account',),\n",
       " ('cust_churn',),\n",
       " ('cust_loc',),\n",
       " ('cust_services',),\n",
       " ('sample',)]"
      ]
     },
     "execution_count": 6,
     "metadata": {},
     "output_type": "execute_result"
    }
   ],
   "source": [
    "query1=\"SELECT name FROM sqlite_master WHERE type='table';\"\n",
    "cur.execute(query1).fetchall()"
   ]
  },
  {
   "cell_type": "code",
   "execution_count": 7,
   "id": "7fd19e24",
   "metadata": {},
   "outputs": [
    {
     "data": {
      "text/plain": [
       "[('Female', 3488), ('Male', 3555)]"
      ]
     },
     "execution_count": 7,
     "metadata": {},
     "output_type": "execute_result"
    }
   ],
   "source": [
    "# Information about customers\n",
    "query2='SELECT gender,COUNT(*) FROM customer GROUP BY gender;'\n",
    "cur.execute(query2).fetchall()"
   ]
  },
  {
   "cell_type": "code",
   "execution_count": 8,
   "id": "3f0c5104",
   "metadata": {},
   "outputs": [
    {
     "data": {
      "text/plain": [
       "[('No', 3641), ('Yes', 3402)]"
      ]
     },
     "execution_count": 8,
     "metadata": {},
     "output_type": "execute_result"
    }
   ],
   "source": [
    "# Partner\n",
    "query3='SELECT partner,COUNT(*) FROM customer GROUP BY partner;'\n",
    "cur.execute(query3).fetchall()"
   ]
  },
  {
   "cell_type": "code",
   "execution_count": 13,
   "id": "7d011153",
   "metadata": {},
   "outputs": [
    {
     "name": "stdout",
     "output_type": "stream",
     "text": [
      "[('No', 5416), ('Yes', 1627)]\n"
     ]
    }
   ],
   "source": [
    "# Dependents\n",
    "query4='SELECT dependents,COUNT(*) FROM customer GROUP BY dependents;'\n",
    "print(cur.execute(query4).fetchall())\n"
   ]
  },
  {
   "cell_type": "code",
   "execution_count": 15,
   "id": "233f78af",
   "metadata": {},
   "outputs": [
    {
     "data": {
      "text/plain": [
       "[(32.37114865824223,)]"
      ]
     },
     "execution_count": 15,
     "metadata": {},
     "output_type": "execute_result"
    }
   ],
   "source": [
    "# exploring the cust_account table\n",
    "q5=\"SELECT avg(tenure) FROM cust_account;\"\n",
    "cur.execute(q5).fetchall()"
   ]
  },
  {
   "cell_type": "code",
   "execution_count": 18,
   "id": "fa801cf5",
   "metadata": {},
   "outputs": [
    {
     "data": {
      "text/plain": [
       "[(4922,)]"
      ]
     },
     "execution_count": 18,
     "metadata": {},
     "output_type": "execute_result"
    }
   ],
   "source": [
    "# Number of customers who pay higher than average charges\n",
    "q6=\"SELECT COUNT(account_id) FROM cust_account WHERE totalcharges>(SELECT AVG(totalcharges) FROM cust_account);\"\n",
    "cur.execute(q6).fetchall()"
   ]
  },
  {
   "cell_type": "markdown",
   "id": "1b8c74d5",
   "metadata": {},
   "source": [
    "## Joining Tables"
   ]
  },
  {
   "cell_type": "code",
   "execution_count": 27,
   "id": "00d5f5ad",
   "metadata": {},
   "outputs": [],
   "source": [
    "cur.execute('''\n",
    "ALTER TABLE cust_loc\n",
    "RENAME cust_id to CustomerID\n",
    "''')\n",
    "\n",
    "conn.commit()"
   ]
  },
  {
   "cell_type": "code",
   "execution_count": 40,
   "id": "130967e8",
   "metadata": {},
   "outputs": [],
   "source": [
    "customer=pd.read_sql('SELECT * FROM customer;',conn)\n",
    "cust_account=pd.read_sql('SELECT * FROM cust_account;',conn)\n",
    "cust_churn=pd.read_sql('SELECT * FROM cust_churn;',conn)\n",
    "cust_loc=pd.read_sql('SELECT * FROM cust_loc;',conn)\n",
    "cust_services=pd.read_sql('SELECT * FROM cust_services;',conn)"
   ]
  },
  {
   "cell_type": "code",
   "execution_count": 41,
   "id": "ebd0c92c",
   "metadata": {},
   "outputs": [],
   "source": [
    "cust_services.rename(columns={'Cust_ID':'CustomerID'},inplace=True)\n",
    "cust_account.rename(columns={'Account_id':'CustomerID'},inplace=True)\n",
    "cust_churn.rename(columns={'Id':'CustomerID'},inplace=True)"
   ]
  },
  {
   "cell_type": "code",
   "execution_count": 39,
   "id": "5a079e52",
   "metadata": {},
   "outputs": [
    {
     "data": {
      "text/html": [
       "<div>\n",
       "<style scoped>\n",
       "    .dataframe tbody tr th:only-of-type {\n",
       "        vertical-align: middle;\n",
       "    }\n",
       "\n",
       "    .dataframe tbody tr th {\n",
       "        vertical-align: top;\n",
       "    }\n",
       "\n",
       "    .dataframe thead th {\n",
       "        text-align: right;\n",
       "    }\n",
       "</style>\n",
       "<table border=\"1\" class=\"dataframe\">\n",
       "  <thead>\n",
       "    <tr style=\"text-align: right;\">\n",
       "      <th></th>\n",
       "      <th>CustomerID</th>\n",
       "      <th>Gender</th>\n",
       "      <th>SeniorCitizen</th>\n",
       "      <th>Partner</th>\n",
       "      <th>Dependents</th>\n",
       "      <th>CustomerID</th>\n",
       "      <th>Tenure</th>\n",
       "      <th>Contract</th>\n",
       "      <th>PaymentMethod</th>\n",
       "      <th>PaperlessBilling</th>\n",
       "      <th>...</th>\n",
       "      <th>CustomerID</th>\n",
       "      <th>PhoneService</th>\n",
       "      <th>MultipleLines</th>\n",
       "      <th>InternetService</th>\n",
       "      <th>OnlineSecurity</th>\n",
       "      <th>OnlineBackup</th>\n",
       "      <th>DeviceProtection</th>\n",
       "      <th>TechSupport</th>\n",
       "      <th>StreamingTV</th>\n",
       "      <th>StreamingMovies</th>\n",
       "    </tr>\n",
       "  </thead>\n",
       "  <tbody>\n",
       "    <tr>\n",
       "      <th>0</th>\n",
       "      <td>3668-QPYBK</td>\n",
       "      <td>Male</td>\n",
       "      <td>No</td>\n",
       "      <td>No</td>\n",
       "      <td>No</td>\n",
       "      <td>3668-QPYBK</td>\n",
       "      <td>2</td>\n",
       "      <td>Month-to-month</td>\n",
       "      <td>Mailed check</td>\n",
       "      <td>Yes</td>\n",
       "      <td>...</td>\n",
       "      <td>3668-QPYBK</td>\n",
       "      <td>Yes</td>\n",
       "      <td>No</td>\n",
       "      <td>DSL</td>\n",
       "      <td>Yes</td>\n",
       "      <td>Yes</td>\n",
       "      <td>No</td>\n",
       "      <td>No</td>\n",
       "      <td>No</td>\n",
       "      <td>No</td>\n",
       "    </tr>\n",
       "    <tr>\n",
       "      <th>1</th>\n",
       "      <td>9237-HQITU</td>\n",
       "      <td>Female</td>\n",
       "      <td>No</td>\n",
       "      <td>No</td>\n",
       "      <td>Yes</td>\n",
       "      <td>9237-HQITU</td>\n",
       "      <td>2</td>\n",
       "      <td>Month-to-month</td>\n",
       "      <td>Electronic check</td>\n",
       "      <td>Yes</td>\n",
       "      <td>...</td>\n",
       "      <td>9237-HQITU</td>\n",
       "      <td>Yes</td>\n",
       "      <td>No</td>\n",
       "      <td>Fiber optic</td>\n",
       "      <td>No</td>\n",
       "      <td>No</td>\n",
       "      <td>No</td>\n",
       "      <td>No</td>\n",
       "      <td>No</td>\n",
       "      <td>No</td>\n",
       "    </tr>\n",
       "    <tr>\n",
       "      <th>2</th>\n",
       "      <td>9305-CDSKC</td>\n",
       "      <td>Female</td>\n",
       "      <td>No</td>\n",
       "      <td>No</td>\n",
       "      <td>Yes</td>\n",
       "      <td>9305-CDSKC</td>\n",
       "      <td>8</td>\n",
       "      <td>Month-to-month</td>\n",
       "      <td>Electronic check</td>\n",
       "      <td>Yes</td>\n",
       "      <td>...</td>\n",
       "      <td>9305-CDSKC</td>\n",
       "      <td>Yes</td>\n",
       "      <td>Yes</td>\n",
       "      <td>Fiber optic</td>\n",
       "      <td>No</td>\n",
       "      <td>No</td>\n",
       "      <td>Yes</td>\n",
       "      <td>No</td>\n",
       "      <td>Yes</td>\n",
       "      <td>Yes</td>\n",
       "    </tr>\n",
       "    <tr>\n",
       "      <th>3</th>\n",
       "      <td>7892-POOKP</td>\n",
       "      <td>Female</td>\n",
       "      <td>No</td>\n",
       "      <td>Yes</td>\n",
       "      <td>Yes</td>\n",
       "      <td>7892-POOKP</td>\n",
       "      <td>28</td>\n",
       "      <td>Month-to-month</td>\n",
       "      <td>Electronic check</td>\n",
       "      <td>Yes</td>\n",
       "      <td>...</td>\n",
       "      <td>7892-POOKP</td>\n",
       "      <td>Yes</td>\n",
       "      <td>Yes</td>\n",
       "      <td>Fiber optic</td>\n",
       "      <td>No</td>\n",
       "      <td>No</td>\n",
       "      <td>Yes</td>\n",
       "      <td>Yes</td>\n",
       "      <td>Yes</td>\n",
       "      <td>Yes</td>\n",
       "    </tr>\n",
       "    <tr>\n",
       "      <th>4</th>\n",
       "      <td>0280-XJGEX</td>\n",
       "      <td>Male</td>\n",
       "      <td>No</td>\n",
       "      <td>No</td>\n",
       "      <td>Yes</td>\n",
       "      <td>0280-XJGEX</td>\n",
       "      <td>49</td>\n",
       "      <td>Month-to-month</td>\n",
       "      <td>Bank transfer (automatic)</td>\n",
       "      <td>Yes</td>\n",
       "      <td>...</td>\n",
       "      <td>0280-XJGEX</td>\n",
       "      <td>Yes</td>\n",
       "      <td>Yes</td>\n",
       "      <td>Fiber optic</td>\n",
       "      <td>No</td>\n",
       "      <td>Yes</td>\n",
       "      <td>Yes</td>\n",
       "      <td>No</td>\n",
       "      <td>Yes</td>\n",
       "      <td>Yes</td>\n",
       "    </tr>\n",
       "  </tbody>\n",
       "</table>\n",
       "<p>5 rows × 29 columns</p>\n",
       "</div>"
      ],
      "text/plain": [
       "   CustomerID  Gender SeniorCitizen Partner Dependents  CustomerID  Tenure  \\\n",
       "0  3668-QPYBK    Male            No      No         No  3668-QPYBK       2   \n",
       "1  9237-HQITU  Female            No      No        Yes  9237-HQITU       2   \n",
       "2  9305-CDSKC  Female            No      No        Yes  9305-CDSKC       8   \n",
       "3  7892-POOKP  Female            No     Yes        Yes  7892-POOKP      28   \n",
       "4  0280-XJGEX    Male            No      No        Yes  0280-XJGEX      49   \n",
       "\n",
       "         Contract              PaymentMethod PaperlessBilling  ...  \\\n",
       "0  Month-to-month               Mailed check              Yes  ...   \n",
       "1  Month-to-month           Electronic check              Yes  ...   \n",
       "2  Month-to-month           Electronic check              Yes  ...   \n",
       "3  Month-to-month           Electronic check              Yes  ...   \n",
       "4  Month-to-month  Bank transfer (automatic)              Yes  ...   \n",
       "\n",
       "   CustomerID PhoneService MultipleLines InternetService OnlineSecurity  \\\n",
       "0  3668-QPYBK          Yes            No             DSL            Yes   \n",
       "1  9237-HQITU          Yes            No     Fiber optic             No   \n",
       "2  9305-CDSKC          Yes           Yes     Fiber optic             No   \n",
       "3  7892-POOKP          Yes           Yes     Fiber optic             No   \n",
       "4  0280-XJGEX          Yes           Yes     Fiber optic             No   \n",
       "\n",
       "  OnlineBackup  DeviceProtection  TechSupport  StreamingTV StreamingMovies  \n",
       "0          Yes                No           No           No              No  \n",
       "1           No                No           No           No              No  \n",
       "2           No               Yes           No          Yes             Yes  \n",
       "3           No               Yes          Yes          Yes             Yes  \n",
       "4          Yes               Yes           No          Yes             Yes  \n",
       "\n",
       "[5 rows x 29 columns]"
      ]
     },
     "execution_count": 39,
     "metadata": {},
     "output_type": "execute_result"
    }
   ],
   "source": [
    "df_to_join=[customer,cust_account,cust_churn,cust_loc,cust_services]\n",
    "churn_all=pd.concat(df_to_join,join='inner',axis=1)\n"
   ]
  },
  {
   "cell_type": "code",
   "execution_count": 44,
   "id": "c6e4981e",
   "metadata": {},
   "outputs": [
    {
     "data": {
      "text/plain": [
       "Index(['CustomerID', 'Gender', 'SeniorCitizen', 'Partner', 'Dependents',\n",
       "       'Tenure', 'Contract', 'PaymentMethod', 'PaperlessBilling',\n",
       "       'MonthlyCharges', 'TotalCharges', 'Churn', 'State', 'Latitude',\n",
       "       'Longitude', 'ZipCode', 'PhoneService', 'MultipleLines',\n",
       "       'InternetService', 'OnlineSecurity', 'OnlineBackup', 'DeviceProtection',\n",
       "       'TechSupport', 'StreamingTV', 'StreamingMovies'],\n",
       "      dtype='object')"
      ]
     },
     "execution_count": 44,
     "metadata": {},
     "output_type": "execute_result"
    }
   ],
   "source": [
    "churn_all=churn_all.loc[:,~churn_all.columns.duplicated()]\n",
    "churn_all.columns"
   ]
  },
  {
   "cell_type": "code",
   "execution_count": 45,
   "id": "b8e4ba65",
   "metadata": {},
   "outputs": [],
   "source": [
    "# Saving the flattened_table to the database\n",
    "churn_all.to_sql('churn_all',conn,if_exists='replace',index=False)\n",
    "conn.commit()"
   ]
  },
  {
   "cell_type": "code",
   "execution_count": 46,
   "id": "4754374b",
   "metadata": {},
   "outputs": [],
   "source": [
    "conn.close()"
   ]
  },
  {
   "cell_type": "code",
   "execution_count": null,
   "id": "f0593624",
   "metadata": {},
   "outputs": [],
   "source": []
  }
 ],
 "metadata": {
  "hide_input": false,
  "kernelspec": {
   "display_name": "Python 3 (ipykernel)",
   "language": "python",
   "name": "python3"
  },
  "language_info": {
   "codemirror_mode": {
    "name": "ipython",
    "version": 3
   },
   "file_extension": ".py",
   "mimetype": "text/x-python",
   "name": "python",
   "nbconvert_exporter": "python",
   "pygments_lexer": "ipython3",
   "version": "3.8.8"
  }
 },
 "nbformat": 4,
 "nbformat_minor": 5
}
